{
 "cells": [
  {
   "cell_type": "code",
   "execution_count": null,
   "metadata": {},
   "outputs": [],
   "source": [
    "import librosa\n",
    "import numpy as np\n",
    "import matplotlib.pyplot as plt\n",
    "import os"
   ]
  },
  {
   "cell_type": "code",
   "execution_count": null,
   "metadata": {},
   "outputs": [],
   "source": [
    "class AudioAugmentation:\n",
    "    def read_audio_file(self, file_path):\n",
    "        input_length = 16000\n",
    "        data = librosa.core.load(file_path)[0]\n",
    "        if len(data) > input_length:\n",
    "            data = data[:input_length]\n",
    "        else:\n",
    "            data = np.pad(data, (0, max(0, input_length - len(data))), \"constant\")\n",
    "        return data\n",
    "\n",
    "    def write_audio_file(self, file, data, sample_rate=16000):\n",
    "        librosa.output.write_wav(file, data, sample_rate)\n",
    "\n",
    "    def add_noise(self, data):\n",
    "        noise = np.random.randn(len(data))\n",
    "        data_noise = data + 0.005 * noise\n",
    "        return data_noise\n",
    "\n",
    "    def shift(self, data):\n",
    "        return np.roll(data, 1600)\n",
    "\n",
    "    def stretch(self, data, rate=1):\n",
    "        input_length = 16000\n",
    "        data = librosa.effects.time_stretch(data, rate)\n",
    "        if len(data) > input_length:\n",
    "            data = data[:input_length]\n",
    "        else:\n",
    "            data = np.pad(data, (0, max(0, input_length - len(data))), \"constant\")\n",
    "        return data   \n"
   ]
  },
  {
   "cell_type": "code",
   "execution_count": null,
   "metadata": {},
   "outputs": [],
   "source": [
    "# Create a new instance from AudioAugmentation class\n",
    "aa = AudioAugmentation()\n",
    "\n",
    "a=0\n",
    "for file in os.listdir('C:\\\\Users\\\\Documents\\\\Cough Detection\\\\Data\\\\cough'):\n",
    "    a+=1\n",
    "    input_folder = 'C:\\\\Users\\\\Documents\\\\Cough Detection\\\\Data\\\\cough\\\\'\n",
    "    filename = \"sample\" + \"(\" + str(a) +\")\" + \".wav\"\n",
    "    path = os.path.join(input_folder, filename)\n",
    "    \n",
    "    # Read the cough sound\n",
    "    data = aa.read_audio_file(path)\n",
    "  \n",
    "    # Adding noise to sound\n",
    "    data_noise = aa.add_noise(data)\n",
    "  \n",
    "    # Shifting the sound\n",
    "    data_roll = aa.shift(data)\n",
    "  \n",
    "    # Stretching the sound\n",
    "    data_stretch = aa.stretch(data, 0.8)\n",
    "    \n",
    "    output_folder = 'C:\\\\Users\\\\Documents\\\\Cough Detection\\\\Data\\\\augment\\\\'\n",
    "    noisefilename = \"sample_noise\" + \"(\" + str(a) +\")\" + \".wav\"\n",
    "    noisepath = os.path.join(output_folder, noisefilename)\n",
    "\n",
    "    rollfilename = \"sample_roll\" + \"(\" + str(a) +\")\" + \".wav\"\n",
    "    rollpath = os.path.join(output_folder, rollfilename)\n",
    "\n",
    "    stretchfilename = \"sample_stretch\" + \"(\" + str(a) +\")\" + \".wav\"\n",
    "    stretchpath = os.path.join(output_folder, stretchfilename)\n",
    "\n",
    "    # Write generated cough sounds\n",
    "    aa.write_audio_file(noisepath, data_noise)\n",
    "    aa.write_audio_file(rollpath, data_roll)\n",
    "    aa.write_audio_file(stretchpath, data_stretch)"
   ]
  },
  {
   "cell_type": "code",
   "execution_count": null,
   "metadata": {},
   "outputs": [],
   "source": []
  }
 ],
 "metadata": {
  "kernelspec": {
   "display_name": "Python 3.7 (tensorflow)",
   "language": "python",
   "name": "tensorflow"
  },
  "language_info": {
   "codemirror_mode": {
    "name": "ipython",
    "version": 3
   },
   "file_extension": ".py",
   "mimetype": "text/x-python",
   "name": "python",
   "nbconvert_exporter": "python",
   "pygments_lexer": "ipython3",
   "version": "3.7.7"
  }
 },
 "nbformat": 4,
 "nbformat_minor": 4
}
