{
 "cells": [
  {
   "cell_type": "markdown",
   "metadata": {},
   "source": [
    "# Anomaly Detection with Autoencoders"
   ]
  },
  {
   "cell_type": "code",
   "execution_count": null,
   "metadata": {},
   "outputs": [],
   "source": [
    "import librosa \n",
    "from scipy.io import wavfile as wav\n",
    "import numpy as np\n",
    "import matplotlib.pyplot as plt\n",
    "import pandas as pd\n",
    "import os\n",
    "import librosa"
   ]
  },
  {
   "cell_type": "markdown",
   "metadata": {},
   "source": [
    "### Extract an MFCC for each cough audio file in the dataset and store it in a Panda Dataframe along with it's class label "
   ]
  },
  {
   "cell_type": "code",
   "execution_count": 7,
   "metadata": {},
   "outputs": [],
   "source": [
    "def extract_mfccs(file_name):\n",
    "   \n",
    "    try:\n",
    "        audio, sample_rate = librosa.load(file_name, res_type='kaiser_fast') \n",
    "        mfccs = librosa.feature.mfcc(y=audio, sr=sample_rate, n_mfcc=40)\n",
    "        mfccsnorm = np.mean(mfccs.T,axis=0)\n",
    "        \n",
    "    except Exception as e:\n",
    "        print(\"file could not be loaded: \", file)\n",
    "        return None \n",
    "     \n",
    "    return mfccsnorm"
   ]
  },
  {
   "cell_type": "code",
   "execution_count": null,
   "metadata": {},
   "outputs": [],
   "source": [
    "# Set the path to the cough dataset \n",
    "fulldatasetpath = 'C:\\\\Users\\\\Documents\\\\Cough Detection\\\\Data\\\\cough\\\\'\n",
    "\n",
    "metadata = pd.read_csv('C:\\\\Users\\\\Documents\\\\Cough Detection\\\\Data\\\\cough.csv')\n",
    "\n",
    "features = []\n",
    "\n",
    "# Iterate through each sound file and extract the features \n",
    "for index, row in metadata.iterrows():\n",
    "    \n",
    "    file_name = os.path.join(os.path.abspath(fulldatasetpath),str(row[\"file_name\"]))\n",
    "    \n",
    "    class_label = row[\"class_name\"]\n",
    "    data = extract_mfccs(file_name)\n",
    "    \n",
    "    features.append([data, class_label])\n",
    "\n",
    "# Convert into a Panda dataframe \n",
    "featuresdataframe = pd.DataFrame(features, columns=['feature','class_label'])\n",
    "\n",
    "print('features extracted from ', len(featuresdataframe), ' files') "
   ]
  },
  {
   "cell_type": "code",
   "execution_count": 10,
   "metadata": {},
   "outputs": [
    {
     "name": "stdout",
     "output_type": "stream",
     "text": [
      "                                               feature class_label\n",
      "0    [-200.70184, 99.20585, -72.28148, 21.80312, -9...       cough\n",
      "1    [-314.28616, 90.3109, -68.50514, 15.40077, -12...       cough\n",
      "2    [-314.4416, 93.78775, -13.789625, 2.641592, -5...       cough\n",
      "3    [-310.52585, 71.25459, -68.1882, -6.732506, 1....       cough\n",
      "4    [-256.3385, 131.29033, -78.243164, 8.587592, 1...       cough\n",
      "..                                                 ...         ...\n",
      "995  [-250.20494, 186.81802, -40.3024, -2.6410193, ...       cough\n",
      "996  [-277.06705, 167.86713, -2.8843956, 1.5124706,...       cough\n",
      "997  [-296.343, 167.84077, -85.02909, 25.053547, -3...       cough\n",
      "998  [-196.3671, 159.38153, -61.271618, 39.612797, ...       cough\n",
      "999  [-430.52194, 184.45177, -46.895187, -42.32516,...       cough\n",
      "\n",
      "[1000 rows x 2 columns]\n"
     ]
    }
   ],
   "source": [
    "print(featuresdataframe)"
   ]
  },
  {
   "cell_type": "markdown",
   "metadata": {},
   "source": [
    "### Convert the categorical text data into model-understandable numerical data. "
   ]
  },
  {
   "cell_type": "code",
   "execution_count": 11,
   "metadata": {},
   "outputs": [
    {
     "name": "stderr",
     "output_type": "stream",
     "text": [
      "Using TensorFlow backend.\n"
     ]
    }
   ],
   "source": [
    "from sklearn.preprocessing import LabelEncoder\n",
    "from keras.utils import to_categorical\n",
    "\n",
    "# Convert features and Class labels into numpy arrays\n",
    "X = np.array(featuresdataframe.feature.tolist())\n",
    "y = np.array(featuresdataframe.class_label.tolist())\n",
    "\n",
    "# Encode the classification labels\n",
    "labelen = LabelEncoder()\n",
    "classen = to_categorical(labelen.fit_transform(y)) "
   ]
  },
  {
   "cell_type": "markdown",
   "metadata": {},
   "source": [
    "### Split the dataset into training and testing sets. The testing set size will be 10% and we will set a random state. \n"
   ]
  },
  {
   "cell_type": "code",
   "execution_count": 12,
   "metadata": {},
   "outputs": [],
   "source": [
    "# split the dataset \n",
    "from sklearn.model_selection import train_test_split \n",
    "\n",
    "x_train, x_test, y_train, y_test = train_test_split(X, classen, test_size=0.1, random_state = 42)"
   ]
  },
  {
   "cell_type": "code",
   "execution_count": 13,
   "metadata": {},
   "outputs": [
    {
     "name": "stdout",
     "output_type": "stream",
     "text": [
      "train count: 900\n"
     ]
    }
   ],
   "source": [
    "print(f\"train count: {len(x_train)}\")"
   ]
  },
  {
   "cell_type": "code",
   "execution_count": 14,
   "metadata": {},
   "outputs": [
    {
     "name": "stdout",
     "output_type": "stream",
     "text": [
      "40\n"
     ]
    }
   ],
   "source": [
    "input_dim = x_train.shape[1]\n",
    "print(input_dim)"
   ]
  },
  {
   "cell_type": "code",
   "execution_count": 15,
   "metadata": {},
   "outputs": [
    {
     "name": "stdout",
     "output_type": "stream",
     "text": [
      "40\n"
     ]
    }
   ],
   "source": [
    "print(X.shape[1])"
   ]
  },
  {
   "cell_type": "markdown",
   "metadata": {},
   "source": [
    "### Create the Autoencoder Model with L1 Sparsity Penalty as 1e-5 and Loss function as MSE"
   ]
  },
  {
   "cell_type": "code",
   "execution_count": 181,
   "metadata": {},
   "outputs": [
    {
     "name": "stdout",
     "output_type": "stream",
     "text": [
      "Model: \"sequential_13\"\n",
      "_________________________________________________________________\n",
      "Layer (type)                 Output Shape              Param #   \n",
      "=================================================================\n",
      "dense_54 (Dense)             (None, 512)               20992     \n",
      "_________________________________________________________________\n",
      "dense_55 (Dense)             (None, 224)               114912    \n",
      "_________________________________________________________________\n",
      "dense_56 (Dense)             (None, 512)               115200    \n",
      "_________________________________________________________________\n",
      "dense_57 (Dense)             (None, 40)                20520     \n",
      "=================================================================\n",
      "Total params: 271,624\n",
      "Trainable params: 271,624\n",
      "Non-trainable params: 0\n",
      "_________________________________________________________________\n"
     ]
    }
   ],
   "source": [
    "from sklearn import metrics\n",
    "import numpy as np\n",
    "import pandas as pd\n",
    "from IPython.display import display, HTML \n",
    "import tensorflow as tf\n",
    "from tensorflow.keras.models import Sequential\n",
    "from tensorflow.keras.layers import Dense, Activation\n",
    "from tensorflow.keras.regularizers import l1\n",
    "\n",
    "model = Sequential()\n",
    "model.add(Dense(512, input_dim=X.shape[1], activity_regularizer=l1(0.00001), activation='relu'))\n",
    "model.add(Dense(224, activation='relu'))\n",
    "model.add(Dense(512, activation='relu'))\n",
    "model.add(Dense(X.shape[1])) # Multiple output neurons\n",
    "\n",
    "model.summary()"
   ]
  },
  {
   "cell_type": "code",
   "execution_count": 182,
   "metadata": {},
   "outputs": [],
   "source": [
    "model.compile(loss='mse', optimizer='adam', metrics=['accuracy'])"
   ]
  },
  {
   "cell_type": "code",
   "execution_count": 183,
   "metadata": {},
   "outputs": [
    {
     "name": "stdout",
     "output_type": "stream",
     "text": [
      "Train on 900 samples\n",
      "Epoch 1/90\n",
      "900/900 [==============================] - 0s 435us/sample - loss: 875.7804 - accuracy: 0.9244\n",
      "Epoch 2/90\n",
      "900/900 [==============================] - 0s 66us/sample - loss: 81.3038 - accuracy: 0.9967\n",
      "Epoch 3/90\n",
      "900/900 [==============================] - 0s 69us/sample - loss: 46.5264 - accuracy: 0.9900\n",
      "Epoch 4/90\n",
      "900/900 [==============================] - 0s 70us/sample - loss: 31.9904 - accuracy: 0.9878\n",
      "Epoch 5/90\n",
      "900/900 [==============================] - 0s 71us/sample - loss: 23.7607 - accuracy: 0.9911\n",
      "Epoch 6/90\n",
      "900/900 [==============================] - 0s 70us/sample - loss: 18.5942 - accuracy: 0.9889\n",
      "Epoch 7/90\n",
      "900/900 [==============================] - 0s 68us/sample - loss: 14.1450 - accuracy: 0.9889\n",
      "Epoch 8/90\n",
      "900/900 [==============================] - 0s 72us/sample - loss: 11.2297 - accuracy: 0.9878\n",
      "Epoch 9/90\n",
      "900/900 [==============================] - 0s 71us/sample - loss: 9.1948 - accuracy: 0.9911\n",
      "Epoch 10/90\n",
      "900/900 [==============================] - 0s 71us/sample - loss: 7.5379 - accuracy: 0.9889\n",
      "Epoch 11/90\n",
      "900/900 [==============================] - 0s 71us/sample - loss: 6.3290 - accuracy: 0.9900\n",
      "Epoch 12/90\n",
      "900/900 [==============================] - 0s 69us/sample - loss: 5.7061 - accuracy: 0.9900\n",
      "Epoch 13/90\n",
      "900/900 [==============================] - 0s 72us/sample - loss: 4.8516 - accuracy: 0.9889\n",
      "Epoch 14/90\n",
      "900/900 [==============================] - 0s 70us/sample - loss: 4.2958 - accuracy: 0.9889\n",
      "Epoch 15/90\n",
      "900/900 [==============================] - 0s 66us/sample - loss: 3.6359 - accuracy: 0.9922\n",
      "Epoch 16/90\n",
      "900/900 [==============================] - 0s 72us/sample - loss: 3.3335 - accuracy: 0.9889\n",
      "Epoch 17/90\n",
      "900/900 [==============================] - 0s 73us/sample - loss: 3.1537 - accuracy: 0.9922\n",
      "Epoch 18/90\n",
      "900/900 [==============================] - 0s 68us/sample - loss: 2.7649 - accuracy: 0.9900\n",
      "Epoch 19/90\n",
      "900/900 [==============================] - 0s 68us/sample - loss: 2.8856 - accuracy: 0.9922\n",
      "Epoch 20/90\n",
      "900/900 [==============================] - 0s 76us/sample - loss: 2.4108 - accuracy: 0.9900\n",
      "Epoch 21/90\n",
      "900/900 [==============================] - 0s 72us/sample - loss: 2.0399 - accuracy: 0.9900\n",
      "Epoch 22/90\n",
      "900/900 [==============================] - 0s 69us/sample - loss: 2.0276 - accuracy: 0.9900\n",
      "Epoch 23/90\n",
      "900/900 [==============================] - 0s 72us/sample - loss: 2.0431 - accuracy: 0.9922\n",
      "Epoch 24/90\n",
      "900/900 [==============================] - 0s 75us/sample - loss: 1.8748 - accuracy: 0.9889\n",
      "Epoch 25/90\n",
      "900/900 [==============================] - 0s 79us/sample - loss: 1.5420 - accuracy: 0.9900\n",
      "Epoch 26/90\n",
      "900/900 [==============================] - 0s 82us/sample - loss: 1.5036 - accuracy: 0.9911\n",
      "Epoch 27/90\n",
      "900/900 [==============================] - 0s 83us/sample - loss: 1.3988 - accuracy: 0.9911\n",
      "Epoch 28/90\n",
      "900/900 [==============================] - 0s 80us/sample - loss: 1.4947 - accuracy: 0.9900\n",
      "Epoch 29/90\n",
      "900/900 [==============================] - 0s 81us/sample - loss: 1.1890 - accuracy: 0.9911\n",
      "Epoch 30/90\n",
      "900/900 [==============================] - 0s 80us/sample - loss: 1.0843 - accuracy: 0.9911\n",
      "Epoch 31/90\n",
      "900/900 [==============================] - 0s 74us/sample - loss: 1.0527 - accuracy: 0.9900\n",
      "Epoch 32/90\n",
      "900/900 [==============================] - 0s 75us/sample - loss: 0.9955 - accuracy: 0.9900\n",
      "Epoch 33/90\n",
      "900/900 [==============================] - 0s 66us/sample - loss: 1.0760 - accuracy: 0.9911\n",
      "Epoch 34/90\n",
      "900/900 [==============================] - 0s 70us/sample - loss: 0.9541 - accuracy: 0.9922\n",
      "Epoch 35/90\n",
      "900/900 [==============================] - 0s 73us/sample - loss: 0.8197 - accuracy: 0.9911\n",
      "Epoch 36/90\n",
      "900/900 [==============================] - 0s 66us/sample - loss: 1.1141 - accuracy: 0.9911\n",
      "Epoch 37/90\n",
      "900/900 [==============================] - 0s 69us/sample - loss: 0.9799 - accuracy: 0.9911\n",
      "Epoch 38/90\n",
      "900/900 [==============================] - 0s 73us/sample - loss: 0.7500 - accuracy: 0.9900\n",
      "Epoch 39/90\n",
      "900/900 [==============================] - 0s 82us/sample - loss: 0.6527 - accuracy: 0.9933\n",
      "Epoch 40/90\n",
      "900/900 [==============================] - 0s 81us/sample - loss: 0.7191 - accuracy: 0.9900\n",
      "Epoch 41/90\n",
      "900/900 [==============================] - 0s 81us/sample - loss: 0.8239 - accuracy: 0.9911\n",
      "Epoch 42/90\n",
      "900/900 [==============================] - 0s 81us/sample - loss: 0.7868 - accuracy: 0.9911\n",
      "Epoch 43/90\n",
      "900/900 [==============================] - 0s 75us/sample - loss: 0.7503 - accuracy: 0.9911\n",
      "Epoch 44/90\n",
      "900/900 [==============================] - 0s 69us/sample - loss: 0.5969 - accuracy: 0.9900\n",
      "Epoch 45/90\n",
      "900/900 [==============================] - 0s 81us/sample - loss: 0.6285 - accuracy: 0.9922\n",
      "Epoch 46/90\n",
      "900/900 [==============================] - 0s 80us/sample - loss: 0.7710 - accuracy: 0.9900\n",
      "Epoch 47/90\n",
      "900/900 [==============================] - 0s 86us/sample - loss: 1.0722 - accuracy: 0.9911\n",
      "Epoch 48/90\n",
      "900/900 [==============================] - 0s 78us/sample - loss: 0.8208 - accuracy: 0.9922\n",
      "Epoch 49/90\n",
      "900/900 [==============================] - 0s 71us/sample - loss: 0.6523 - accuracy: 0.9900\n",
      "Epoch 50/90\n",
      "900/900 [==============================] - 0s 66us/sample - loss: 0.4989 - accuracy: 0.9922\n",
      "Epoch 51/90\n",
      "900/900 [==============================] - 0s 69us/sample - loss: 0.4463 - accuracy: 0.9900\n",
      "Epoch 52/90\n",
      "900/900 [==============================] - 0s 76us/sample - loss: 0.4037 - accuracy: 0.9922\n",
      "Epoch 53/90\n",
      "900/900 [==============================] - 0s 76us/sample - loss: 0.4070 - accuracy: 0.9911\n",
      "Epoch 54/90\n",
      "900/900 [==============================] - 0s 65us/sample - loss: 0.4764 - accuracy: 0.9900\n",
      "Epoch 55/90\n",
      "900/900 [==============================] - 0s 70us/sample - loss: 0.5730 - accuracy: 0.9911\n",
      "Epoch 56/90\n",
      "900/900 [==============================] - 0s 76us/sample - loss: 0.5762 - accuracy: 0.9911\n",
      "Epoch 57/90\n",
      "900/900 [==============================] - 0s 82us/sample - loss: 0.8958 - accuracy: 0.9911\n",
      "Epoch 58/90\n",
      "900/900 [==============================] - 0s 78us/sample - loss: 1.3797 - accuracy: 0.9956\n",
      "Epoch 59/90\n",
      "900/900 [==============================] - 0s 65us/sample - loss: 0.6708 - accuracy: 0.9911\n",
      "Epoch 60/90\n",
      "900/900 [==============================] - 0s 68us/sample - loss: 0.5015 - accuracy: 0.9900\n",
      "Epoch 61/90\n",
      "900/900 [==============================] - 0s 76us/sample - loss: 0.7252 - accuracy: 0.9933\n",
      "Epoch 62/90\n",
      "900/900 [==============================] - 0s 69us/sample - loss: 0.7973 - accuracy: 0.9922\n",
      "Epoch 63/90\n",
      "900/900 [==============================] - 0s 71us/sample - loss: 0.4073 - accuracy: 0.9933\n",
      "Epoch 64/90\n",
      "900/900 [==============================] - 0s 66us/sample - loss: 0.3145 - accuracy: 0.9911\n",
      "Epoch 65/90\n",
      "900/900 [==============================] - 0s 68us/sample - loss: 0.4166 - accuracy: 0.9900\n",
      "Epoch 66/90\n",
      "900/900 [==============================] - 0s 70us/sample - loss: 0.3660 - accuracy: 0.9922\n",
      "Epoch 67/90\n",
      "900/900 [==============================] - 0s 73us/sample - loss: 0.6902 - accuracy: 0.9900\n",
      "Epoch 68/90\n",
      "900/900 [==============================] - 0s 86us/sample - loss: 1.6581 - accuracy: 0.9911\n",
      "Epoch 69/90\n",
      "900/900 [==============================] - 0s 84us/sample - loss: 3.0023 - accuracy: 0.9911\n",
      "Epoch 70/90\n",
      "900/900 [==============================] - 0s 68us/sample - loss: 2.3440 - accuracy: 0.9900\n",
      "Epoch 71/90\n",
      "900/900 [==============================] - 0s 72us/sample - loss: 0.6344 - accuracy: 0.9889\n",
      "Epoch 72/90\n",
      "900/900 [==============================] - 0s 79us/sample - loss: 0.4188 - accuracy: 0.9900\n",
      "Epoch 73/90\n",
      "900/900 [==============================] - 0s 83us/sample - loss: 0.2858 - accuracy: 0.9922\n",
      "Epoch 74/90\n",
      "900/900 [==============================] - 0s 90us/sample - loss: 0.2534 - accuracy: 0.9922\n",
      "Epoch 75/90\n",
      "900/900 [==============================] - 0s 69us/sample - loss: 0.3432 - accuracy: 0.9900\n",
      "Epoch 76/90\n",
      "900/900 [==============================] - 0s 66us/sample - loss: 2.9678 - accuracy: 0.9900\n",
      "Epoch 77/90\n",
      "900/900 [==============================] - 0s 69us/sample - loss: 1.2926 - accuracy: 0.9922\n",
      "Epoch 78/90\n",
      "900/900 [==============================] - 0s 89us/sample - loss: 1.0645 - accuracy: 0.9889\n",
      "Epoch 79/90\n",
      "900/900 [==============================] - 0s 72us/sample - loss: 0.7197 - accuracy: 0.9911\n",
      "Epoch 80/90\n",
      "900/900 [==============================] - 0s 68us/sample - loss: 0.5507 - accuracy: 0.9889\n",
      "Epoch 81/90\n",
      "900/900 [==============================] - 0s 66us/sample - loss: 0.6599 - accuracy: 0.9933\n",
      "Epoch 82/90\n",
      "900/900 [==============================] - 0s 65us/sample - loss: 0.4517 - accuracy: 0.9911\n",
      "Epoch 83/90\n",
      "900/900 [==============================] - 0s 69us/sample - loss: 0.3876 - accuracy: 0.9922\n",
      "Epoch 84/90\n",
      "900/900 [==============================] - 0s 72us/sample - loss: 0.3621 - accuracy: 0.9911\n",
      "Epoch 85/90\n",
      "900/900 [==============================] - 0s 75us/sample - loss: 0.3487 - accuracy: 0.9911\n",
      "Epoch 86/90\n",
      "900/900 [==============================] - 0s 79us/sample - loss: 0.4014 - accuracy: 0.9911\n",
      "Epoch 87/90\n",
      "900/900 [==============================] - 0s 80us/sample - loss: 0.4798 - accuracy: 0.9911\n",
      "Epoch 88/90\n",
      "900/900 [==============================] - 0s 78us/sample - loss: 0.2784 - accuracy: 0.9933\n",
      "Epoch 89/90\n",
      "900/900 [==============================] - 0s 80us/sample - loss: 0.3808 - accuracy: 0.9933\n",
      "Epoch 90/90\n",
      "900/900 [==============================] - 0s 76us/sample - loss: 0.4518 - accuracy: 0.9900\n"
     ]
    }
   ],
   "source": [
    "history=model.fit(x_train,x_train,verbose=1,epochs=90)"
   ]
  },
  {
   "cell_type": "code",
   "execution_count": 184,
   "metadata": {},
   "outputs": [
    {
     "data": {
      "image/png": "[encoded data removed]",
      "text/plain": [
       "<Figure size 432x288 with 1 Axes>"
      ]
     },
     "metadata": {
      "needs_background": "light"
     },
     "output_type": "display_data"
    }
   ],
   "source": [
    "plt.plot(history.history['loss'], label='train loss')\n",
    "#plt.plot(history.history['accuracy'], label='Accuracy')\n",
    "plt.legend()\n",
    "plt.show()"
   ]
  },
  {
   "attachments": {},
   "cell_type": "markdown",
   "metadata": {},
   "source": [
    "### Calculate the MSE for the Test Dataset (out of sample) and on the Whole Dataset (In + Out Sample)"
   ]
  },
  {
   "cell_type": "code",
   "execution_count": 185,
   "metadata": {},
   "outputs": [
    {
     "name": "stdout",
     "output_type": "stream",
     "text": [
      "Out of Sample Score (RMSE): 0.6133102178573608\n",
      "Insample Normal Score (RMSE): 0.5205418467521667\n"
     ]
    }
   ],
   "source": [
    "pred = model.predict(x_test)\n",
    "score1 = np.sqrt(metrics.mean_squared_error(pred,x_test))\n",
    "pred = model.predict(X)\n",
    "score2 = np.sqrt(metrics.mean_squared_error(pred,X))\n",
    "\n",
    "print(f\"Out of Sample Score (RMSE): {score1}\")\n",
    "print(f\"Insample Normal Score (RMSE): {score2}\")\n"
   ]
  },
  {
   "cell_type": "markdown",
   "metadata": {},
   "source": [
    "### Use the model to predict the MSE for validation set "
   ]
  },
  {
   "cell_type": "code",
   "execution_count": 236,
   "metadata": {},
   "outputs": [],
   "source": [
    "filename = 'C:\\\\Users\\\\\\\\Documents\\\\Audio Classification\\\\Evaluation audio\\\\siren_1.wav' \n"
   ]
  },
  {
   "cell_type": "code",
   "execution_count": 237,
   "metadata": {},
   "outputs": [],
   "source": [
    "def extract_mfccs(filename):\n",
    "   \n",
    "    try:\n",
    "        audio, sample_rate = librosa.load(filename, res_type='kaiser_fast') \n",
    "        mfccs = librosa.feature.mfcc(y=audio, sr=sample_rate, n_mfcc=40)\n",
    "        mfccsnorm = np.mean(mfccs.T,axis=0)\n",
    "        \n",
    "    except Exception as e:\n",
    "        print(\"file could not be loaded: \", file)\n",
    "        return None \n",
    "     \n",
    "    return mfccsnorm"
   ]
  },
  {
   "cell_type": "code",
   "execution_count": 238,
   "metadata": {},
   "outputs": [],
   "source": [
    "prediction_feature = extract_mfccs(filename)"
   ]
  },
  {
   "cell_type": "code",
   "execution_count": 240,
   "metadata": {},
   "outputs": [
    {
     "name": "stdout",
     "output_type": "stream",
     "text": [
      "Attack Underway Score (RMSE): 1.4563369750976562\n"
     ]
    }
   ],
   "source": [
    "pred = model.predict(prediction_feature)\n",
    "score3 = np.sqrt(metrics.mean_squared_error(pred,prediction_feature))\n",
    "print(f\"Validation sample (RMSE): {score3}\")"
   ]
  },
  {
   "cell_type": "markdown",
   "metadata": {},
   "source": [
    "### Save the Model"
   ]
  },
  {
   "cell_type": "code",
   "execution_count": 241,
   "metadata": {},
   "outputs": [],
   "source": [
    "model.save('C:\\\\Users\\\\\\\\Documents\\\\Cough Detection\\\\Data\\\\autoencoder_model_4.h5')"
   ]
  },
  {
   "cell_type": "code",
   "execution_count": null,
   "metadata": {},
   "outputs": [],
   "source": []
  }
 ],
 "metadata": {
  "kernelspec": {
   "display_name": "Python 3.7 (tensorflow)",
   "language": "python",
   "name": "tensorflow"
  },
  "language_info": {
   "codemirror_mode": {
    "name": "ipython",
    "version": 3
   },
   "file_extension": ".py",
   "mimetype": "text/x-python",
   "name": "python",
   "nbconvert_exporter": "python",
   "pygments_lexer": "ipython3",
   "version": "3.7.7"
  }
 },
 "nbformat": 4,
 "nbformat_minor": 2
}
